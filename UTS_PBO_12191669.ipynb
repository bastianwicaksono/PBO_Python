{
 "cells": [
  {
   "cell_type": "code",
   "execution_count": 7,
   "metadata": {},
   "outputs": [
    {
     "name": "stdout",
     "output_type": "stream",
     "text": [
      "Volume(cm^3) : 199\n"
     ]
    }
   ],
   "source": [
    "#soal no 1\n",
    "\n",
    "def volume_limas_segi_lima(Luas_alas, Tinggi_limas):\n",
    "    volume = 1/3 * Luas_alas * Tinggi_limas\n",
    "    return volume\n",
    "\n",
    "print(\"Volume(cm^3) : %d\" % volume_limas_segi_lima(100,6)) "
   ]
  },
  {
   "cell_type": "code",
   "execution_count": 4,
   "metadata": {},
   "outputs": [
    {
     "name": "stdout",
     "output_type": "stream",
     "text": [
      "Masukkan tinggi limas :6\n",
      "Masukkan luas alas    :100\n",
      "volume(cm^3) : 199\n",
      "ulang lagi tidak?(y/t):y\n",
      "\n",
      "Masukkan tinggi limas :6\n",
      "Masukkan luas alas    :100\n",
      "volume(cm^3) : 199\n",
      "ulang lagi tidak?(y/t):t\n",
      "\n",
      "\n",
      "selesai\n"
     ]
    }
   ],
   "source": [
    "#soal no 2\n",
    "\n",
    "mulai = 1000000\n",
    "for i in range(mulai):\n",
    "    tinggi_limas = int(input(\"Masukkan tinggi limas :\"))\n",
    "    luas_alas = int(input(\"Masukkan luas alas    :\"))\n",
    "    volume = int(1/3 * luas_alas * tinggi_limas)\n",
    "    print(\"volume(cm^3) :\",volume)\n",
    "    ulang = input(\"ulang lagi tidak?(y/t):\")\n",
    "    print()\n",
    "    if ulang == 't':\n",
    "        print()\n",
    "        break\n",
    "        \n",
    "print(\"selesai\")"
   ]
  },
  {
   "cell_type": "code",
   "execution_count": 10,
   "metadata": {},
   "outputs": [
    {
     "name": "stdout",
     "output_type": "stream",
     "text": [
      "Masukkan tinggi limas :6\n",
      "Masukkan luas alas    :100\n",
      "volume(cm^3) : 199\n",
      "ulang lagi tidak?(y/t):y\n",
      "\n",
      "Masukkan tinggi limas :6\n",
      "Masukkan luas alas    :100\n",
      "volume(cm^3) : 199\n",
      "ulang lagi tidak?(y/t):t\n",
      "\n",
      "\n",
      "selesai\n"
     ]
    }
   ],
   "source": [
    "#soal no 3\n",
    "\n",
    "#membuat variabel mulai sebagai batas perulangan for dapat diulang sebanyak 1juta kali\n",
    "mulai = 1000000 \n",
    "#membuat perulangan yg akan berjalan sebanyak nilai dalam variabel mulai\n",
    "for i in range(mulai): \n",
    "    #memasukkan tinggi limas \n",
    "    tinggi_limas = int(input(\"Masukkan tinggi limas :\"))\n",
    "    #memasukkan luas alas limas\n",
    "    luas_alas = int(input(\"Masukkan luas alas    :\"))  \n",
    "    #menghitung volume limas\n",
    "    volume = int(1/3 * luas_alas * tinggi_limas)  \n",
    "    #menampilkan hasil perhitungan volume\n",
    "    print(\"volume(cm^3) :\",volume) \n",
    "    #membuat variabel masukan untuk seleksi apakah sudah selesai atau belum\n",
    "    ulang = input(\"ulang lagi tidak?(y/t):\")  \n",
    "    #sebagai pembatas\n",
    "    print()  \n",
    "    #memproses nilai dari variabel ulang apakah sudah selesai atau belum\n",
    "    if ulang == 't': \n",
    "        #sebagai pembatas\n",
    "        print() \n",
    "        #mengakhiri program saat nilai variabel ulang adalah t artinya user sudah selesai\n",
    "        break  \n",
    "\n",
    "#akhir dari program        \n",
    "print(\"selesai\") "
   ]
  }
 ],
 "metadata": {
  "kernelspec": {
   "display_name": "Python 3",
   "language": "python",
   "name": "python3"
  },
  "language_info": {
   "codemirror_mode": {
    "name": "ipython",
    "version": 3
   },
   "file_extension": ".py",
   "mimetype": "text/x-python",
   "name": "python",
   "nbconvert_exporter": "python",
   "pygments_lexer": "ipython3",
   "version": "3.8.3"
  }
 },
 "nbformat": 4,
 "nbformat_minor": 4
}
