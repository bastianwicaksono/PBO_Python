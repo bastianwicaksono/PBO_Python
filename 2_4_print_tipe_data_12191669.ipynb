{
 "cells": [
  {
   "cell_type": "code",
   "execution_count": null,
   "metadata": {
    "id": "4dfSpquWCSJc"
   },
   "outputs": [],
   "source": []
  },
  {
   "cell_type": "markdown",
   "metadata": {
    "id": "45cjtVtg8pTP"
   },
   "source": [
    "##Mencetak Tipe Data\n",
    "**Praktik 2.4.1**\n",
    "Cobalah mengetik kode di bawah ini :\n",
    "``` javascript\n",
    "#tipe data Boolean\n",
    "print(True)\n",
    "\n",
    "\n",
    "#tipe data String\n",
    "print(\"Mari belajar Python\")\n",
    "print('Belajar Python Sangat Dengan Mudah')\n",
    "\n",
    "\n",
    "#tipe data Integer\n",
    "print(20)\n",
    "\n",
    "\n",
    "#tipe data Float\n",
    "print(3.14)\n",
    "\n",
    "\n",
    "#tipe data List\n",
    "print([1,2,3,4,5])\n",
    "print([\"satu\", \"dua\", \"tiga\"])\n",
    "\n",
    "\n",
    "#tipe data Tuple\n",
    "print((1,2,3,4,5))\n",
    "print((\"satu\", \"dua\", \"tiga\"))\n",
    "\n",
    "\n",
    "#tipe data Dictionary\n",
    "print({\"nama\":\"Budi\", 'umur':20})\n",
    "\n",
    "#tipe data Dictionary dimasukan ke dalam variabel biodata\n",
    "biodata = {\"nama\":\"Andi\", 'umur':21} #proses inisialisasi variabel biodata\n",
    "print(biodata) #proses pencetakan variabel biodata yang berisi tipe data Dictionary\n",
    "type(biodata) #fungsi untuk mengecek jenis tipe data. akan tampil <class 'dict'>\n",
    "``` "
   ]
  },
  {
   "cell_type": "code",
   "execution_count": 2,
   "metadata": {
    "id": "ujERTDu_9Udi"
   },
   "outputs": [
    {
     "name": "stdout",
     "output_type": "stream",
     "text": [
      "True\n",
      "Mari belajar Python\n",
      "Belajar Python Sangat Dengan Mudah\n",
      "20\n",
      "3.14\n",
      "[1, 2, 3, 4, 5]\n",
      "['satu', 'dua', 'tiga']\n",
      "(1, 2, 3, 4, 5)\n",
      "('satu', 'dua', 'tiga')\n",
      "{'nama': 'Budi', 'umur': 20}\n",
      "{'nama': 'Andi', 'umur': 21}\n"
     ]
    },
    {
     "data": {
      "text/plain": [
       "dict"
      ]
     },
     "execution_count": 2,
     "metadata": {},
     "output_type": "execute_result"
    }
   ],
   "source": [
    "#Jawab Praktik 2.4.1\n",
    "\n",
    "#tipe data Boolean\n",
    "print(True)\n",
    "\n",
    "\n",
    "#tipe data String\n",
    "print(\"Mari belajar Python\")\n",
    "print('Belajar Python Sangat Dengan Mudah')\n",
    "\n",
    "\n",
    "#tipe data Integer\n",
    "print(20)\n",
    "\n",
    "\n",
    "#tipe data Float\n",
    "print(3.14)\n",
    "\n",
    "\n",
    "#tipe data List\n",
    "print([1,2,3,4,5])\n",
    "print([\"satu\", \"dua\", \"tiga\"])\n",
    "\n",
    "\n",
    "#tipe data Tuple\n",
    "print((1,2,3,4,5))\n",
    "print((\"satu\", \"dua\", \"tiga\"))\n",
    "\n",
    "\n",
    "#tipe data Dictionary\n",
    "print({\"nama\":\"Budi\", 'umur':20})\n",
    "\n",
    "#tipe data Dictionary dimasukan ke dalam variabel biodata\n",
    "biodata = {\"nama\":\"Andi\", 'umur':21} #proses inisialisasi variabel biodata\n",
    "print(biodata) #proses pencetakan variabel biodata yang berisi tipe data Dictionary\n",
    "type(biodata) #fungsi untuk mengecek jenis tipe data. akan tampil <class 'dict'>"
   ]
  },
  {
   "cell_type": "markdown",
   "metadata": {
    "id": "Nu-cCxbQ9U8i"
   },
   "source": [
    "**Tugas Praktek 3.3**\n",
    "\n",
    "1.Printing Data type menggunakan Variable.\n",
    "Ketikan kode di bawah ini pada Code Editor.\n",
    "``` javascript\n",
    "var_string=\"Mari Belajar Python\"\n",
    "var_int=10\n",
    "var_float=3.14\n",
    "var_list=[1,2,3,4]\n",
    "var_tuple=(\"satu\",\"dua\",\"tiga\")\n",
    "var_dict={\"nama\":\"Ali\", 'umur':20}\n",
    "\n",
    "\n",
    "print(var_string)\n",
    "print(var_int)\n",
    "print(var_float)\n",
    "print(var_list)\n",
    "print(var_tuple)\n",
    "print(var_dict)\n",
    "```\n"
   ]
  },
  {
   "cell_type": "code",
   "execution_count": 1,
   "metadata": {
    "id": "1tGciAb2-RiJ"
   },
   "outputs": [
    {
     "name": "stdout",
     "output_type": "stream",
     "text": [
      "Mari Belajar Python\n",
      "10\n",
      "3.14\n",
      "[1, 2, 3, 4]\n",
      "('satu', 'dua', 'tiga')\n",
      "{'nama': 'Ali', 'umur': 20}\n"
     ]
    }
   ],
   "source": [
    "#Jawab Tugas Praktek 3.3 Nomor 1\n",
    "\n",
    "var_string=\"Mari Belajar Python\"\n",
    "var_int=10\n",
    "var_float=3.14\n",
    "var_list=[1,2,3,4]\n",
    "var_tuple=(\"satu\",\"dua\",\"tiga\")\n",
    "var_dict={\"nama\":\"Ali\", 'umur':20}\n",
    "\n",
    "\n",
    "print(var_string)\n",
    "print(var_int)\n",
    "print(var_float)\n",
    "print(var_list)\n",
    "print(var_tuple)\n",
    "print(var_dict)"
   ]
  },
  {
   "cell_type": "markdown",
   "metadata": {
    "id": "MhwlX9P3-SCL"
   },
   "source": [
    "2. Tambahkan code di bawah ini untuk mengetahui type data dari suatu value di variabel.\n",
    "``` javascript\n",
    "print(type(var_string))\n",
    "print(type(var_int))\n",
    "print(type(var_float))\n",
    "print(type(var_list))\n",
    "print(type(var_tuple))\n",
    "print(type(var_dict))\n",
    "```"
   ]
  },
  {
   "cell_type": "code",
   "execution_count": 3,
   "metadata": {
    "id": "hPGODjeh-aEX"
   },
   "outputs": [
    {
     "name": "stdout",
     "output_type": "stream",
     "text": [
      "Mari Belajar Python\n",
      "10\n",
      "3.14\n",
      "[1, 2, 3, 4]\n",
      "('satu', 'dua', 'tiga')\n",
      "{'nama': 'Ali', 'umur': 20}\n",
      "<class 'str'>\n",
      "<class 'int'>\n",
      "<class 'float'>\n",
      "<class 'list'>\n",
      "<class 'tuple'>\n",
      "<class 'dict'>\n"
     ]
    }
   ],
   "source": [
    "#Jawab Tugas Praktek 3.3 Nomor 2\n",
    "\n",
    "var_string=\"Mari Belajar Python\"\n",
    "var_int=10\n",
    "var_float=3.14\n",
    "var_list=[1,2,3,4]\n",
    "var_tuple=(\"satu\",\"dua\",\"tiga\")\n",
    "var_dict={\"nama\":\"Ali\", 'umur':20}\n",
    "\n",
    "\n",
    "print(var_string)\n",
    "print(var_int)\n",
    "print(var_float)\n",
    "print(var_list)\n",
    "print(var_tuple)\n",
    "print(var_dict)\n",
    "\n",
    "print(type(var_string))\n",
    "print(type(var_int))\n",
    "print(type(var_float))\n",
    "print(type(var_list))\n",
    "print(type(var_tuple))\n",
    "print(type(var_dict))"
   ]
  },
  {
   "cell_type": "code",
   "execution_count": null,
   "metadata": {},
   "outputs": [],
   "source": []
  }
 ],
 "metadata": {
  "colab": {
   "authorship_tag": "ABX9TyMxCwVOsk+5NyfPUAkXcR3r",
   "collapsed_sections": [],
   "name": "2_4_print_tipe_data.ipynb",
   "provenance": []
  },
  "kernelspec": {
   "display_name": "Python 3",
   "language": "python",
   "name": "python3"
  },
  "language_info": {
   "codemirror_mode": {
    "name": "ipython",
    "version": 3
   },
   "file_extension": ".py",
   "mimetype": "text/x-python",
   "name": "python",
   "nbconvert_exporter": "python",
   "pygments_lexer": "ipython3",
   "version": "3.8.3"
  }
 },
 "nbformat": 4,
 "nbformat_minor": 1
}
