{
 "cells": [
  {
   "cell_type": "code",
   "execution_count": null,
   "metadata": {
    "id": "f7WajviOKztl"
   },
   "outputs": [],
   "source": []
  },
  {
   "cell_type": "markdown",
   "metadata": {
    "id": "Zf9uJW37LCfb"
   },
   "source": [
    "**Praktek Operasi Matematika**\n",
    "\n",
    "Pada praktek ini kita akan mencoba semua operator matematika.\n",
    "\n",
    "Praktek pada sesi kali ini akan menekankan bagaimana menggunakan operator langsung diimplementasikan dengan variable.\n",
    "\n",
    "Implementasikan code di bawah ini pada kode cell editor:\n",
    "``` javascript\n",
    "a=10\n",
    "b=5\n",
    "selisih = a-b\n",
    "jumlah = a+b\n",
    "kali = a*b\n",
    "bagi = a/b\n",
    "print(\"Hasil penjumlahan dan b adalah\", jumlah)\n",
    "print(\"Selisih a dan b adalah :\",selisih)\n",
    "print(\"Hasil perkalian a dan b adalah :\",kali)\n",
    "print(\"Hasil  pembagian a dan b adalah:\",bagi)\n",
    "\n",
    "``` \n",
    " \n",
    "\n",
    "Ketikan code cell di bawah ini pada editor:"
   ]
  },
  {
   "cell_type": "code",
   "execution_count": 7,
   "metadata": {},
   "outputs": [
    {
     "name": "stdout",
     "output_type": "stream",
     "text": [
      "Hasil penjumlahan a dan b adalah  15\n",
      "Selisih a dan b adalah  5\n",
      "Hasil perkalian a dan b adalah  50\n",
      "Hasil pembagian a dan b adalah 2.0\n"
     ]
    }
   ],
   "source": [
    "##Jawaban Tugas Praktek 3.1\n",
    "\n",
    "a=10\n",
    "b=5\n",
    "selisih = a-b\n",
    "jumlah = a+b\n",
    "kali = a*b\n",
    "bagi = a/b\n",
    "\n",
    "print(\"Hasil penjumlahan a dan b adalah \", jumlah)\n",
    "print(\"Selisih a dan b adalah \",selisih)\n",
    "print(\"Hasil perkalian a dan b adalah \",kali)\n",
    "print(\"Hasil pembagian a dan b adalah\",bagi)"
   ]
  },
  {
   "cell_type": "code",
   "execution_count": null,
   "metadata": {},
   "outputs": [],
   "source": []
  }
 ],
 "metadata": {
  "colab": {
   "collapsed_sections": [],
   "name": "4.1_operator_matematika.ipynb",
   "provenance": []
  },
  "kernelspec": {
   "display_name": "Python 3",
   "language": "python",
   "name": "python3"
  },
  "language_info": {
   "codemirror_mode": {
    "name": "ipython",
    "version": 3
   },
   "file_extension": ".py",
   "mimetype": "text/x-python",
   "name": "python",
   "nbconvert_exporter": "python",
   "pygments_lexer": "ipython3",
   "version": "3.8.3"
  }
 },
 "nbformat": 4,
 "nbformat_minor": 1
}
